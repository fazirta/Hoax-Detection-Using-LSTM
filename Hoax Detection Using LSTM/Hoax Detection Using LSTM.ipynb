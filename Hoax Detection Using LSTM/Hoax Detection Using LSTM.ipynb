{
 "cells": [
  {
   "cell_type": "markdown",
   "metadata": {},
   "source": [
    "# Hoax Detection Using LSTM"
   ]
  },
  {
   "cell_type": "code",
   "execution_count": 1,
   "metadata": {},
   "outputs": [],
   "source": [
    "import pandas as pd\n",
    "import numpy as np\n",
    "%matplotlib inline\n",
    "import matplotlib.pyplot as plt\n",
    "import matplotlib\n",
    "import seaborn as sns"
   ]
  },
  {
   "cell_type": "markdown",
   "metadata": {},
   "source": [
    "# Reading data"
   ]
  },
  {
   "cell_type": "code",
   "execution_count": 2,
   "metadata": {},
   "outputs": [],
   "source": [
    "df = pd.read_csv('dataset berita hoax indonesia/600 news with valid hoax label.csv', error_bad_lines=False, encoding='ANSI', delimiter=';')"
   ]
  },
  {
   "cell_type": "code",
   "execution_count": 3,
   "metadata": {},
   "outputs": [
    {
     "data": {
      "text/html": [
       "<div>\n",
       "<style scoped>\n",
       "    .dataframe tbody tr th:only-of-type {\n",
       "        vertical-align: middle;\n",
       "    }\n",
       "\n",
       "    .dataframe tbody tr th {\n",
       "        vertical-align: top;\n",
       "    }\n",
       "\n",
       "    .dataframe thead th {\n",
       "        text-align: right;\n",
       "    }\n",
       "</style>\n",
       "<table border=\"1\" class=\"dataframe\">\n",
       "  <thead>\n",
       "    <tr style=\"text-align: right;\">\n",
       "      <th></th>\n",
       "      <th>berita</th>\n",
       "      <th>tagging</th>\n",
       "    </tr>\n",
       "  </thead>\n",
       "  <tbody>\n",
       "    <tr>\n",
       "      <th>0</th>\n",
       "      <td>Jakarta, Di jejaring sosial, banyak beredar in...</td>\n",
       "      <td>Valid</td>\n",
       "    </tr>\n",
       "    <tr>\n",
       "      <th>1</th>\n",
       "      <td>Isu bahwa ikan lele mengandung sel kanker di j...</td>\n",
       "      <td>Valid</td>\n",
       "    </tr>\n",
       "    <tr>\n",
       "      <th>2</th>\n",
       "      <td>Bagi penikmat kuliner dengan bahan dasar ikan ...</td>\n",
       "      <td>Valid</td>\n",
       "    </tr>\n",
       "    <tr>\n",
       "      <th>3</th>\n",
       "      <td>Ikan lele merupakan salah satu makanan favorit...</td>\n",
       "      <td>Valid</td>\n",
       "    </tr>\n",
       "    <tr>\n",
       "      <th>4</th>\n",
       "      <td>Ikan lele merupakan bahan makanan yang cukup p...</td>\n",
       "      <td>Valid</td>\n",
       "    </tr>\n",
       "  </tbody>\n",
       "</table>\n",
       "</div>"
      ],
      "text/plain": [
       "                                              berita tagging\n",
       "0  Jakarta, Di jejaring sosial, banyak beredar in...   Valid\n",
       "1  Isu bahwa ikan lele mengandung sel kanker di j...   Valid\n",
       "2  Bagi penikmat kuliner dengan bahan dasar ikan ...   Valid\n",
       "3  Ikan lele merupakan salah satu makanan favorit...   Valid\n",
       "4  Ikan lele merupakan bahan makanan yang cukup p...   Valid"
      ]
     },
     "execution_count": 3,
     "metadata": {},
     "output_type": "execute_result"
    }
   ],
   "source": [
    "df.head()"
   ]
  },
  {
   "cell_type": "code",
   "execution_count": 4,
   "metadata": {},
   "outputs": [
    {
     "name": "stderr",
     "output_type": "stream",
     "text": [
      "C:\\Users\\Fazil Tirtana\\anaconda3\\lib\\site-packages\\seaborn\\_decorators.py:36: FutureWarning: Pass the following variable as a keyword arg: x. From version 0.12, the only valid positional argument will be `data`, and passing other arguments without an explicit keyword will result in an error or misinterpretation.\n",
      "  warnings.warn(\n"
     ]
    },
    {
     "data": {
      "text/plain": [
       "Text(0.5, 1.0, 'Number of real and fake news')"
      ]
     },
     "execution_count": 4,
     "metadata": {},
     "output_type": "execute_result"
    },
    {
     "data": {
      "image/png": "[encoded data removed]",
      "text/plain": [
       "<Figure size 432x288 with 1 Axes>"
      ]
     },
     "metadata": {
      "needs_background": "light"
     },
     "output_type": "display_data"
    }
   ],
   "source": [
    "sns.countplot(df.tagging)\n",
    "plt.xlabel('Label')\n",
    "plt.title('Number of real and fake news')"
   ]
  },
  {
   "cell_type": "markdown",
   "metadata": {},
   "source": [
    "# Text Preprocessing\n",
    "##### this includes:\n",
    "- convert all text to lower case\n",
    "- replace REPLACE_BY_SPACE_RE symbols by space in text\n",
    "- remove symbols that are in BAD_SYMBOLS_RE from text\n",
    "- remove stop words and removing digits in text"
   ]
  },
  {
   "cell_type": "code",
   "execution_count": 5,
   "metadata": {},
   "outputs": [],
   "source": [
    "from nltk.corpus import stopwords\n",
    "import regex as re\n",
    "\n",
    "\n",
    "df = df.reset_index(drop=True)\n",
    "REPLACE_BY_SPACE_RE = re.compile('[/(){}\\[\\]\\|@,;]')\n",
    "BAD_SYMBOLS_RE = re.compile('[^0-9a-z #+_]')\n",
    "STOPWORDS = set(stopwords.words('indonesian'))\n",
    "\n",
    "def clean_text(text):\n",
    "    text = text.lower()\n",
    "    text = REPLACE_BY_SPACE_RE.sub(' ', text)\n",
    "    text = BAD_SYMBOLS_RE.sub('', text)\n",
    "    text = ' '.join(word for word in text.split() if word not in STOPWORDS)\n",
    "    return text\n",
    "\n",
    "df['berita'] = df['berita'].apply(clean_text)\n",
    "df['berita'] = df['berita'].str.replace('\\d+', '')"
   ]
  },
  {
   "cell_type": "code",
   "execution_count": 6,
   "metadata": {},
   "outputs": [
    {
     "data": {
      "text/plain": [
       "0      jakarta jejaring sosial beredar informasi meny...\n",
       "1      isu ikan lele mengandung sel kanker jejaring s...\n",
       "2      penikmat kuliner bahan dasar ikan lele berita ...\n",
       "3      ikan lele salah makanan favorit indonesia harg...\n",
       "4      ikan lele bahan makanan populer indonesia ters...\n",
       "                             ...                        \n",
       "595    kabar beredar seputar rencana kenaikan gaji pr...\n",
       "596    kabar beredar seputar rencana kenaikan gaji pr...\n",
       "597    akhirakhir beredar pemberitaan kenaikan gaji p...\n",
       "598    rancangan peraturan pemerintah rpp gaji tunjan...\n",
       "599    kabar beredar seputar rencana kenaikan gaji pr...\n",
       "Name: berita, Length: 600, dtype: object"
      ]
     },
     "execution_count": 6,
     "metadata": {},
     "output_type": "execute_result"
    }
   ],
   "source": [
    "df['berita']"
   ]
  },
  {
   "cell_type": "markdown",
   "metadata": {},
   "source": [
    "# Data processing\n",
    "- Tokenize the data and convert the text to sequences.\n",
    "- Add padding to ensure that all the sequences have the same shape."
   ]
  },
  {
   "cell_type": "code",
   "execution_count": 7,
   "metadata": {},
   "outputs": [
    {
     "name": "stdout",
     "output_type": "stream",
     "text": [
      "Found 12015 unique tokens.\n"
     ]
    }
   ],
   "source": [
    "from keras.preprocessing.text import Tokenizer\n",
    "from keras.preprocessing.sequence import pad_sequences\n",
    "from sklearn.preprocessing import LabelEncoder\n",
    "\n",
    "MAX_NB_WORDS = 1000\n",
    "MAX_SEQUENCE_LENGTH = 150\n",
    "EMBEDDING_DIM = 100\n",
    "\n",
    "Tokenizer = Tokenizer(num_words=MAX_NB_WORDS, filters='!\"#$%&()*+,-./:;<=>?@[\\]^_`{|}~', lower=True)\n",
    "Tokenizer.fit_on_texts(df['berita'].values)\n",
    "word_index = Tokenizer.word_index\n",
    "print('Found %s unique tokens.' % len(word_index))"
   ]
  },
  {
   "cell_type": "code",
   "execution_count": 8,
   "metadata": {},
   "outputs": [
    {
     "name": "stdout",
     "output_type": "stream",
     "text": [
      "Shape of data tensor: (600, 150)\n"
     ]
    }
   ],
   "source": [
    "X = Tokenizer.texts_to_sequences(df['berita'].values)\n",
    "X = pad_sequences(X, maxlen=MAX_SEQUENCE_LENGTH)\n",
    "print('Shape of data tensor:', X.shape)"
   ]
  },
  {
   "cell_type": "code",
   "execution_count": 9,
   "metadata": {},
   "outputs": [
    {
     "name": "stdout",
     "output_type": "stream",
     "text": [
      "Shape of label tensor: (600, 1)\n"
     ]
    }
   ],
   "source": [
    "Y = df['tagging']\n",
    "le = LabelEncoder()\n",
    "Y = le.fit_transform(Y)\n",
    "Y = Y.reshape(-1,1)\n",
    "print('Shape of label tensor:', Y.shape)"
   ]
  },
  {
   "cell_type": "markdown",
   "metadata": {},
   "source": [
    "# Split into training and test data."
   ]
  },
  {
   "cell_type": "code",
   "execution_count": 10,
   "metadata": {},
   "outputs": [],
   "source": [
    "from sklearn.model_selection import train_test_split"
   ]
  },
  {
   "cell_type": "code",
   "execution_count": 11,
   "metadata": {},
   "outputs": [
    {
     "name": "stdout",
     "output_type": "stream",
     "text": [
      "(540, 150) (540, 1)\n",
      "(60, 150) (60, 1)\n"
     ]
    }
   ],
   "source": [
    "X_train, X_test, Y_train, Y_test = train_test_split(X,Y, test_size = 0.10, random_state = 42)\n",
    "print(X_train.shape,Y_train.shape)\n",
    "print(X_test.shape,Y_test.shape)"
   ]
  },
  {
   "cell_type": "markdown",
   "metadata": {},
   "source": [
    "# LSTM model"
   ]
  },
  {
   "cell_type": "code",
   "execution_count": 12,
   "metadata": {},
   "outputs": [],
   "source": [
    "from keras.layers import LSTM,Dense,Dropout,Input,Embedding,Activation\n",
    "from keras.models import Model\n",
    "from keras.models import Sequential\n",
    "from keras.optimizers import RMSprop\n",
    "from keras.callbacks import EarlyStopping\n",
    "from sklearn.preprocessing import LabelEncoder\n",
    "from sklearn.model_selection import train_test_split\n",
    "import keras.backend"
   ]
  },
  {
   "cell_type": "code",
   "execution_count": 13,
   "metadata": {},
   "outputs": [
    {
     "name": "stdout",
     "output_type": "stream",
     "text": [
      "Epoch 1/200\n",
      "4/4 [==============================] - 3s 470ms/step - loss: 0.6895 - accuracy: 0.5429 - val_loss: 0.6740 - val_accuracy: 0.5926\n",
      "Epoch 2/200\n",
      "4/4 [==============================] - 0s 87ms/step - loss: 0.6563 - accuracy: 0.6266 - val_loss: 0.6621 - val_accuracy: 0.5926\n",
      "Epoch 3/200\n",
      "4/4 [==============================] - 0s 90ms/step - loss: 0.6312 - accuracy: 0.6147 - val_loss: 0.6412 - val_accuracy: 0.6111\n",
      "Epoch 4/200\n",
      "4/4 [==============================] - 0s 87ms/step - loss: 0.5396 - accuracy: 0.6967 - val_loss: 0.6077 - val_accuracy: 0.6296\n",
      "Epoch 5/200\n",
      "4/4 [==============================] - 0s 82ms/step - loss: 0.5319 - accuracy: 0.8180 - val_loss: 0.5905 - val_accuracy: 0.6204\n",
      "Epoch 6/200\n",
      "4/4 [==============================] - 0s 81ms/step - loss: 0.4626 - accuracy: 0.8751 - val_loss: 0.5746 - val_accuracy: 0.6481\n",
      "Epoch 7/200\n",
      "4/4 [==============================] - 0s 82ms/step - loss: 0.3772 - accuracy: 0.8625 - val_loss: 0.5746 - val_accuracy: 0.6667\n",
      "Epoch 8/200\n",
      "4/4 [==============================] - 0s 79ms/step - loss: 0.3112 - accuracy: 0.9098 - val_loss: 0.5714 - val_accuracy: 0.6759\n",
      "Epoch 9/200\n",
      "4/4 [==============================] - 0s 80ms/step - loss: 0.2817 - accuracy: 0.9049 - val_loss: 0.7261 - val_accuracy: 0.6759\n",
      "Epoch 10/200\n",
      "4/4 [==============================] - 0s 79ms/step - loss: 0.2627 - accuracy: 0.8913 - val_loss: 0.6196 - val_accuracy: 0.7130\n",
      "Epoch 11/200\n",
      "4/4 [==============================] - 0s 80ms/step - loss: 0.1868 - accuracy: 0.9445 - val_loss: 0.7317 - val_accuracy: 0.6667\n",
      "Epoch 12/200\n",
      "4/4 [==============================] - 0s 76ms/step - loss: 0.2361 - accuracy: 0.9145 - val_loss: 0.6168 - val_accuracy: 0.7037\n",
      "Epoch 13/200\n",
      "4/4 [==============================] - 0s 80ms/step - loss: 0.1868 - accuracy: 0.9515 - val_loss: 0.7865 - val_accuracy: 0.7222\n",
      "Epoch 00013: early stopping\n"
     ]
    }
   ],
   "source": [
    "keras.backend.clear_session()\n",
    "\n",
    "inputs = Input(name='inputs',shape=[MAX_SEQUENCE_LENGTH])\n",
    "layer = Embedding(MAX_NB_WORDS,50,input_length=MAX_SEQUENCE_LENGTH)(inputs)\n",
    "layer = LSTM(64)(layer)\n",
    "layer = Dense(256,name='FC1')(layer)\n",
    "layer = Activation('relu')(layer)\n",
    "layer = Dropout(0.5)(layer)\n",
    "layer = Dense(1,name='out_layer')(layer)\n",
    "layer = Activation('sigmoid')(layer)\n",
    "model = Model(inputs=inputs,outputs=layer)\n",
    "model.compile(loss='binary_crossentropy',optimizer=RMSprop(),metrics=['accuracy'])\n",
    "\n",
    "epochs = 200\n",
    "batch_size = 128\n",
    "\n",
    "history = model.fit(X_train,Y_train,batch_size=batch_size,epochs=epochs,validation_split=0.2,callbacks=EarlyStopping(monitor='val_loss', patience=5, verbose=1))"
   ]
  },
  {
   "cell_type": "markdown",
   "metadata": {},
   "source": [
    "# Model Evaluation"
   ]
  },
  {
   "cell_type": "code",
   "execution_count": 14,
   "metadata": {},
   "outputs": [
    {
     "name": "stdout",
     "output_type": "stream",
     "text": [
      "2/2 [==============================] - 0s 12ms/step - loss: 0.3886 - accuracy: 0.8500\n",
      "Test set\n",
      "  Loss: 0.389\n",
      "  Accuracy: 0.850\n"
     ]
    }
   ],
   "source": [
    "accr = model.evaluate(X_test,Y_test)\n",
    "print('Test set\\n  Loss: {:0.3f}\\n  Accuracy: {:0.3f}'.format(accr[0],accr[1]))"
   ]
  },
  {
   "cell_type": "markdown",
   "metadata": {},
   "source": [
    "# Visual"
   ]
  },
  {
   "cell_type": "code",
   "execution_count": 15,
   "metadata": {},
   "outputs": [
    {
     "data": {
      "image/png": "[encoded data removed]",
      "text/plain": [
       "<Figure size 432x288 with 1 Axes>"
      ]
     },
     "metadata": {
      "needs_background": "light"
     },
     "output_type": "display_data"
    }
   ],
   "source": [
    "plt.title('Loss')\n",
    "plt.plot(history.history['loss'], label='train')\n",
    "plt.plot(history.history['val_loss'], label='test')\n",
    "plt.legend()\n",
    "plt.show();"
   ]
  },
  {
   "cell_type": "code",
   "execution_count": 16,
   "metadata": {},
   "outputs": [
    {
     "data": {
      "image/png": "[encoded data removed]",
      "text/plain": [
       "<Figure size 432x288 with 1 Axes>"
      ]
     },
     "metadata": {
      "needs_background": "light"
     },
     "output_type": "display_data"
    }
   ],
   "source": [
    "plt.title('Accuracy')\n",
    "plt.plot(history.history['accuracy'], label='train')\n",
    "plt.plot(history.history['val_accuracy'], label='test')\n",
    "plt.legend()\n",
    "plt.show();"
   ]
  },
  {
   "cell_type": "markdown",
   "metadata": {},
   "source": [
    "# Test with new/custom input"
   ]
  },
  {
   "cell_type": "code",
   "execution_count": 17,
   "metadata": {},
   "outputs": [
    {
     "name": "stdout",
     "output_type": "stream",
     "text": [
      "[[0.9953377]] Valid\n"
     ]
    }
   ],
   "source": [
    "new_input = ['Pasien COVID-19 tanpa gejala dalam penelitian ini dibagi menjadi dua kelompok. Pertama, kelompok pra-gejala atau orang yang menyebarkan virus sebelum menunjukkan gejala. Kedua, kelompok orang yang mungkin tidak pernah mengembangkan gejala apa pun, tetapi tetap menularkan virus.Studi ini pun menunjukkan bahwa kedua kelompok tersebut tampaknya memainkan peran penting dalam penyebaran virus Corona. Sekitar 35 persen penularan virus berasal dari kelompok pasien pra-gejala. Sementara 24 persen berasal dari mereka yang tidak pernah mengalami gejala.Oleh karena itu, para peneliti pun mencatat sebaiknya tes COVID-19 dilakukan secara lebih luas, terutama kepada orang-orang yang berisiko lebih tinggi menularkan virus Corona pada orang lain.Studi ini juga mempertegas betapa pentingnya mematuhi protokol kesehatan, seperti menggunakan masker, menjaga jarak, dan rutin mencuci tangan untuk meminimalisir penularan virus Corona.']\n",
    "\n",
    "new_input[0] = clean_text(new_input[0])\n",
    "new_input[0] = new_input[0].replace('\\d+', '')\n",
    "\n",
    "A = Tokenizer.texts_to_sequences(new_input)\n",
    "A = pad_sequences(A, maxlen=MAX_SEQUENCE_LENGTH)\n",
    "\n",
    "pred = model.predict(A)\n",
    "labels = ['Hoax', 'Valid']\n",
    "\n",
    "if(pred>0.5):\n",
    "    print(pred, labels[1])\n",
    "else:\n",
    "    print(pred, labels[0])"
   ]
  },
  {
   "cell_type": "markdown",
   "metadata": {},
   "source": [
    "# Save model"
   ]
  },
  {
   "cell_type": "code",
   "execution_count": 18,
   "metadata": {},
   "outputs": [
    {
     "name": "stdout",
     "output_type": "stream",
     "text": [
      "Saved model to disk\n"
     ]
    }
   ],
   "source": [
    "# serialize model to JSON\n",
    "model_json = model.to_json()\n",
    "with open(\"model.json\", \"w\") as json_file:\n",
    "    json_file.write(model_json)\n",
    "# serialize weights to HDF5\n",
    "model.save_weights(\"model.h5\")\n",
    "print(\"Saved model to disk\")"
   ]
  },
  {
   "cell_type": "code",
   "execution_count": 19,
   "metadata": {},
   "outputs": [],
   "source": [
    "from keras.models import model_from_json"
   ]
  },
  {
   "cell_type": "code",
   "execution_count": 20,
   "metadata": {},
   "outputs": [
    {
     "name": "stdout",
     "output_type": "stream",
     "text": [
      "Loaded model from disk\n"
     ]
    }
   ],
   "source": [
    "# load json and create model\n",
    "json_file = open('model.json', 'r')\n",
    "loaded_model_json = json_file.read()\n",
    "json_file.close()\n",
    "loaded_model = model_from_json(loaded_model_json)\n",
    "# load weights into new model\n",
    "loaded_model.load_weights(\"model.h5\")\n",
    "print(\"Loaded model from disk\")"
   ]
  },
  {
   "cell_type": "code",
   "execution_count": 21,
   "metadata": {},
   "outputs": [
    {
     "name": "stdout",
     "output_type": "stream",
     "text": [
      "accuracy: 90.33%\n"
     ]
    }
   ],
   "source": [
    "# evaluate loaded model on test data\n",
    "loaded_model.compile(loss='binary_crossentropy', optimizer='rmsprop', metrics=['accuracy'])\n",
    "score = loaded_model.evaluate(X, Y, verbose=0)\n",
    "print(\"%s: %.2f%%\" % (loaded_model.metrics_names[1], score[1]*100))"
   ]
  },
  {
   "cell_type": "code",
   "execution_count": null,
   "metadata": {},
   "outputs": [],
   "source": []
  }
 ],
 "metadata": {
  "kernelspec": {
   "display_name": "Python 3",
   "language": "python",
   "name": "python3"
  },
  "language_info": {
   "codemirror_mode": {
    "name": "ipython",
    "version": 3
   },
   "file_extension": ".py",
   "mimetype": "text/x-python",
   "name": "python",
   "nbconvert_exporter": "python",
   "pygments_lexer": "ipython3",
   "version": "3.8.5"
  }
 },
 "nbformat": 4,
 "nbformat_minor": 4
}
